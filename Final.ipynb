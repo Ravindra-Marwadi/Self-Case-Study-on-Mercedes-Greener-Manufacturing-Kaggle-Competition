{
 "cells": [
  {
   "cell_type": "code",
   "execution_count": 1,
   "metadata": {},
   "outputs": [],
   "source": [
    "import pickle\n",
    "from sklearn.preprocessing import LabelEncoder\n",
    "import numpy as np\n",
    "from scipy import stats\n",
    "import pandas as pd\n",
    "import numpy as np\n",
    "from sklearn.metrics import r2_score\n",
    "from time import time\n",
    "from IPython.display import Image\n",
    "from tqdm.notebook import tqdm"
   ]
  },
  {
   "cell_type": "code",
   "execution_count": 2,
   "metadata": {},
   "outputs": [],
   "source": [
    "train_df = pd.read_csv('train.csv')\n",
    "test_df = pd.read_csv('test.csv')\n",
    "\n",
    "X_train = train_df.drop(['y'], axis =1 ).values\n",
    "\n",
    "Y_train = train_df.y.values"
   ]
  },
  {
   "cell_type": "code",
   "execution_count": 3,
   "metadata": {},
   "outputs": [],
   "source": [
    "class LabelEncoderExt(object):\n",
    "    \n",
    "    def __init__(self):\n",
    "        \"\"\"\n",
    "        It differs from LabelEncoder by handling new classes and providing a value for it mode of classes,\n",
    "        Mode of a value in class will be added in fit and transform will take care of new item.\n",
    "        \"\"\"\n",
    "        self.label_encoder = LabelEncoder()\n",
    "        # self.classes_ = self.label_encoder.classes_\n",
    "\n",
    "    def fit(self, data_list):\n",
    "        \"\"\"\n",
    "        This will fit the encoder for all the unique values and introduce unknown value\n",
    "        :param data_list: A list of string\n",
    "        :return: self\n",
    "        \"\"\"\n",
    "        \n",
    "        \n",
    "        self.label_encoder = self.label_encoder.fit(list(data_list) ) #+ ['Unknown'])\n",
    "        self.classes_ = self.label_encoder.classes_\n",
    "\n",
    "        return self\n",
    "\n",
    "    def transform(self, data_list):\n",
    "        \"\"\"\n",
    "        This will transform the data_list to id list where the new values get assigned to mode class\n",
    "        :param data_list:\n",
    "        :return:\n",
    "        \"\"\"\n",
    "        new_data_list = list(data_list)\n",
    "        mode = stats.mode(new_data_list)\n",
    "        for unique_item in np.unique(data_list):\n",
    "            if unique_item not in self.label_encoder.classes_:\n",
    "                new_data_list = [mode.mode[0] if x==unique_item else x for x in new_data_list]\n",
    "\n",
    "        return self.label_encoder.transform(new_data_list)"
   ]
  },
  {
   "cell_type": "markdown",
   "metadata": {},
   "source": [
    "### Function to Predict : : final_func_1 ( X ) \n",
    "\n",
    "\n",
    "#### Requirements:\n",
    "\n",
    "    1. TruncSVD \n",
    "    Path :: 'Fitted_Object/trunc_SVD.sav' \n",
    "    Contains Truncated_SVD Object fitted on train Data\n",
    "    \n",
    "    2. PCA\n",
    "    Path :: 'Fitted_Object/PCA_obj.sav'\n",
    "    Contains PCA Object fitted on train data\n",
    "    \n",
    "    3. Categorical Encoding\n",
    "    Path :: 'Fitted_Object/enc_obj_dict.sav'\n",
    "    Contains objected which is mapped on trained data\n",
    "    \n",
    "    4. Best_Model \n",
    "    Path :: 'Fitted_Object/best_model_regressor.sav'\n",
    "    Contains Decision Tree Regressor\n",
    "    \n",
    "    5. Dictionary\n",
    "    Path :: 'Fitted_Object/unikValue_feat.sav'\n",
    "    Contains Uniqvalue in integer features as Key as colums list as value.\n",
    "\n",
    "\n",
    "### These are files are imported in \"final_finc_1\"."
   ]
  },
  {
   "cell_type": "code",
   "execution_count": 4,
   "metadata": {},
   "outputs": [],
   "source": [
    "def final_func_1(train_df):\n",
    "    \n",
    "    \"\"\"\n",
    "    \n",
    "    Input :: DataFrame of DataPoints/DataPoint with shape (No. of data points, 377) in case of one datapoint use\n",
    "    \n",
    "             array.reshape(1, -1)\n",
    "    \n",
    "    Output :: Array of Predicted Value \n",
    "    \n",
    "    Requirements\n",
    "    \n",
    "    1. TruncSVD \n",
    "    Path :: 'Fitted_Object/trunc_SVD.sav' \n",
    "    Contains Truncated_SVD Object fitted on train Data\n",
    "    \n",
    "    2. PCA\n",
    "    Path :: 'Fitted_Object/PCA_obj.sav'\n",
    "    Contains PCA Object fitted on train data\n",
    "    \n",
    "    3. Categorical Encoding\n",
    "    Path :: 'Fitted_Object/enc_obj_dict.sav'\n",
    "    Contains objected which is mapped on trained data\n",
    "    \n",
    "    4. Best_Model \n",
    "    Path :: 'Fitted_Object/best_model_regressor.sav'\n",
    "    Contains Decision Tree Regressor\n",
    "    \n",
    "    5. Dictionary\n",
    "    Path :: 'Fitted_Object/unikValue_feat.sav'\n",
    "    Contains Uniqvalue in integer features as Key and columns list as value.\n",
    "    \n",
    "    \n",
    "    \"\"\"\n",
    "    \n",
    "    \n",
    "    start = time()\n",
    "    ## path of the files\n",
    "    \n",
    "    SVD_Filename = 'Fitted_Object/trunc_SVD.sav'\n",
    "\n",
    "    PCA_Filename = 'Fitted_Object/PCA_obj.sav'\n",
    "\n",
    "    enc_cat_obj = 'Fitted_Object/enc_obj_dict.sav'\n",
    "\n",
    "    base_filename = 'Fitted_Object/best_model_regressor.sav'\n",
    "\n",
    "    uniqvalue_filename = 'Fitted_Object/unikValue_feat.sav'\n",
    "    \n",
    "    column_filename = 'Fitted_Object/column_mapping.sav'\n",
    "    \n",
    "    ## importing files\n",
    "\n",
    "    column_array = pickle.load(open(column_filename, 'rb'))\n",
    "\n",
    "    uniq_value_feat_dict = pickle.load(open(uniqvalue_filename, 'rb'))\n",
    "\n",
    "    Trunc_SVD = pickle.load(open(SVD_Filename, 'rb'))\n",
    "\n",
    "    PCA_obj = pickle.load(open(PCA_Filename, 'rb'))\n",
    "\n",
    "    enc_obj_dict = pickle.load(open(enc_cat_obj,'rb'))\n",
    "\n",
    "    best_model = pickle.load(open(base_filename,'rb'))\n",
    "    \n",
    "    ## columns which contains zeros as the only category\n",
    "    \n",
    "    zero_value_feat = ['X11', 'X93', 'X107', 'X233', 'X235', 'X268', 'X289', 'X290', 'X293', 'X297', 'X330', 'X347']\n",
    "    \n",
    "    ## columns which contains categorical variables which needs to be encoded\n",
    "\n",
    "    cat_feat = ['X0', 'X1', 'X2', 'X3', 'X4', 'X5', 'X6', 'X8']\n",
    "    \n",
    "    ## columns that needs to be dropped from DataFrame\n",
    "    column_to_drop = zero_value_feat + ['ID']\n",
    "\n",
    "    ## columns which contains 0's and 1's as categories \n",
    "    decompos_col = uniq_value_feat_dict['[0, 1]']\n",
    "    \n",
    "    \n",
    "    ##  if input is np.ndarray or list or list of list\n",
    "    \n",
    "    if isinstance(train_df,(list,np.ndarray)):# and isinstance(train_df[0],):\n",
    "        ## create dataframe with the columns and numpy data\n",
    "        X_data = pd.DataFrame(data = train_df, columns=column_array)\n",
    "     \n",
    "        X_data = X_data.drop(column_to_drop, axis=1)\n",
    "\n",
    "    \n",
    "    ## if input is dataframe drop columns and store in X_data\n",
    "    \n",
    "    if isinstance(train_df,pd.DataFrame):\n",
    "    \n",
    "        X_data = train_df.drop(column_to_drop,axis =1)\n",
    "    \n",
    "    ## encoding the categorical features\n",
    "    \n",
    "    for ele in cat_feat:  X_data[ele] = enc_obj_dict[ele].transform(X_data[ele]) \n",
    "        \n",
    "    ## decomposition of features    \n",
    "    trunc_SVD_data = Trunc_SVD.transform(X_data[decompos_col])\n",
    "    \n",
    "    PCA_data = PCA_obj.transform(X_data[decompos_col])\n",
    "\n",
    "    ## adding the decompose features\n",
    "    for i in range(1, 5 + 1):\n",
    "\n",
    "        X_data['tsvd_' + str(i)] = trunc_SVD_data[:, i - 1]\n",
    "\n",
    "        X_data['pca_' + str(i)] = PCA_data[:, i - 1]\n",
    "    \n",
    "    \n",
    "    print('Time for Preprocessing and Featursiation is :: {}  sec' .format(time() - start))\n",
    "    \n",
    "    now = time()\n",
    "    \n",
    "    ## predicting the preprocessed and featurised variables\n",
    "    \n",
    "    Y_pred = best_model.predict(X_data)\n",
    "    \n",
    "    print('Time for inference is :: {}  sec' .format(time() - now))\n",
    "    \n",
    "    return Y_pred"
   ]
  },
  {
   "cell_type": "markdown",
   "metadata": {},
   "source": [
    "### Input list of list "
   ]
  },
  {
   "cell_type": "code",
   "execution_count": 5,
   "metadata": {},
   "outputs": [],
   "source": [
    "lst = [0, 'k', 'v', 'at', 'a', 'd', 'u', 'j', 'o', 0, 0, 0, 1, 0, 0, 0, 0,\n",
    "       1, 0, 0, 1, 0, 0, 0, 0, 0, 0, 0, 0, 1, 0, 0, 0, 1, 0, 1, 0, 0, 0,\n",
    "       0, 0, 0, 0, 0, 1, 0, 0, 0, 0, 0, 0, 0, 0, 0, 0, 0, 1, 0, 0, 0, 0,\n",
    "       0, 0, 0, 0, 0, 1, 0, 1, 0, 0, 1, 0, 0, 0, 0, 0, 0, 0, 0, 0, 0, 1,\n",
    "       0, 0, 0, 0, 0, 0, 0, 0, 0, 0, 0, 0, 0, 0, 0, 0, 0, 0, 0, 0, 0, 0,\n",
    "       0, 0, 0, 1, 0, 0, 1, 0, 1, 0, 1, 1, 1, 0, 0, 0, 0, 0, 0, 1, 0, 0,\n",
    "       1, 0, 0, 0, 0, 1, 1, 0, 0, 0, 0, 1, 0, 1, 0, 0, 0, 0, 1, 0, 0, 0,\n",
    "       0, 0, 1, 0, 0, 0, 0, 0, 0, 0, 0, 0, 0, 0, 0, 0, 1, 0, 0, 0, 0, 0,\n",
    "       0, 0, 0, 1, 0, 0, 0, 0, 1, 0, 0, 1, 1, 0, 0, 0, 1, 0, 0, 0, 0, 0,\n",
    "       0, 0, 0, 0, 1, 0, 0, 0, 0, 1, 0, 0, 0, 0, 0, 0, 0, 0, 0, 0, 1, 0,\n",
    "       0, 0, 0, 0, 0, 0, 0, 0, 0, 0, 0, 0, 1, 0, 0, 1, 0, 0, 0, 0, 0, 0,\n",
    "       0, 0, 0, 0, 0, 0, 0, 0, 0, 0, 0, 0, 0, 0, 0, 0, 0, 0, 1, 1, 0, 0,\n",
    "       1, 0, 0, 0, 0, 0, 0, 1, 0, 1, 0, 0, 0, 0, 0, 0, 0, 0, 0, 1, 0, 0,\n",
    "       0, 0, 0, 0, 0, 0, 0, 0, 0, 0, 0, 0, 0, 0, 0, 0, 0, 1, 0, 0, 0, 0,\n",
    "       0, 0, 0, 0, 0, 1, 0, 0, 0, 0, 0, 0, 0, 1, 0, 0, 1, 0, 1, 0, 0, 0,\n",
    "       0, 1, 0, 0, 0, 0, 0, 0, 0, 0, 0, 0, 0, 0, 0, 0, 0, 0, 0, 0, 0, 1,\n",
    "       0, 0, 0, 0, 0, 0, 1, 0, 0, 0, 0, 0, 0, 0, 0, 0, 0, 0, 0, 0, 0, 0,\n",
    "       1, 0, 0, 0, 0, 0, 0, 0]\n",
    "\n",
    "lst_of_lst = [lst]"
   ]
  },
  {
   "cell_type": "code",
   "execution_count": 6,
   "metadata": {},
   "outputs": [
    {
     "name": "stdout",
     "output_type": "stream",
     "text": [
      "Time for Preprocessing and Featursiation is :: 0.07825016975402832  sec\n",
      "Time for inference is :: 0.0018010139465332031  sec\n"
     ]
    },
    {
     "data": {
      "text/plain": [
       "array([94.43566745])"
      ]
     },
     "execution_count": 6,
     "metadata": {},
     "output_type": "execute_result"
    }
   ],
   "source": [
    "final_func_1(lst_of_lst)"
   ]
  },
  {
   "cell_type": "markdown",
   "metadata": {},
   "source": [
    "### Input array Single datapoint"
   ]
  },
  {
   "cell_type": "code",
   "execution_count": 7,
   "metadata": {},
   "outputs": [
    {
     "data": {
      "text/plain": [
       "array([0, 'k', 'v', 'at', 'a', 'd', 'u', 'j', 'o', 0, 0, 0, 1, 0, 0, 0, 0,\n",
       "       1, 0, 0, 1, 0, 0, 0, 0, 0, 0, 0, 0, 1, 0, 0, 0, 1, 0, 1, 0, 0, 0,\n",
       "       0, 0, 0, 0, 0, 1, 0, 0, 0, 0, 0, 0, 0, 0, 0, 0, 0, 1, 0, 0, 0, 0,\n",
       "       0, 0, 0, 0, 0, 1, 0, 1, 0, 0, 1, 0, 0, 0, 0, 0, 0, 0, 0, 0, 0, 1,\n",
       "       0, 0, 0, 0, 0, 0, 0, 0, 0, 0, 0, 0, 0, 0, 0, 0, 0, 0, 0, 0, 0, 0,\n",
       "       0, 0, 0, 1, 0, 0, 1, 0, 1, 0, 1, 1, 1, 0, 0, 0, 0, 0, 0, 1, 0, 0,\n",
       "       1, 0, 0, 0, 0, 1, 1, 0, 0, 0, 0, 1, 0, 1, 0, 0, 0, 0, 1, 0, 0, 0,\n",
       "       0, 0, 1, 0, 0, 0, 0, 0, 0, 0, 0, 0, 0, 0, 0, 0, 1, 0, 0, 0, 0, 0,\n",
       "       0, 0, 0, 1, 0, 0, 0, 0, 1, 0, 0, 1, 1, 0, 0, 0, 1, 0, 0, 0, 0, 0,\n",
       "       0, 0, 0, 0, 1, 0, 0, 0, 0, 1, 0, 0, 0, 0, 0, 0, 0, 0, 0, 0, 1, 0,\n",
       "       0, 0, 0, 0, 0, 0, 0, 0, 0, 0, 0, 0, 1, 0, 0, 1, 0, 0, 0, 0, 0, 0,\n",
       "       0, 0, 0, 0, 0, 0, 0, 0, 0, 0, 0, 0, 0, 0, 0, 0, 0, 0, 1, 1, 0, 0,\n",
       "       1, 0, 0, 0, 0, 0, 0, 1, 0, 1, 0, 0, 0, 0, 0, 0, 0, 0, 0, 1, 0, 0,\n",
       "       0, 0, 0, 0, 0, 0, 0, 0, 0, 0, 0, 0, 0, 0, 0, 0, 0, 1, 0, 0, 0, 0,\n",
       "       0, 0, 0, 0, 0, 1, 0, 0, 0, 0, 0, 0, 0, 1, 0, 0, 1, 0, 1, 0, 0, 0,\n",
       "       0, 1, 0, 0, 0, 0, 0, 0, 0, 0, 0, 0, 0, 0, 0, 0, 0, 0, 0, 0, 0, 1,\n",
       "       0, 0, 0, 0, 0, 0, 1, 0, 0, 0, 0, 0, 0, 0, 0, 0, 0, 0, 0, 0, 0, 0,\n",
       "       1, 0, 0, 0, 0, 0, 0, 0], dtype=object)"
      ]
     },
     "execution_count": 7,
     "metadata": {},
     "output_type": "execute_result"
    }
   ],
   "source": [
    "X_train[0]"
   ]
  },
  {
   "cell_type": "code",
   "execution_count": 8,
   "metadata": {},
   "outputs": [
    {
     "name": "stdout",
     "output_type": "stream",
     "text": [
      "Time for Preprocessing and Featursiation is :: 0.027216672897338867  sec\n",
      "Time for inference is :: 0.0017240047454833984  sec\n"
     ]
    },
    {
     "data": {
      "text/plain": [
       "array([94.43566745])"
      ]
     },
     "execution_count": 8,
     "metadata": {},
     "output_type": "execute_result"
    }
   ],
   "source": [
    "final_func_1(X_train[0].reshape(1, - 1))"
   ]
  },
  {
   "cell_type": "markdown",
   "metadata": {},
   "source": [
    "### Input batch of datapoints"
   ]
  },
  {
   "cell_type": "code",
   "execution_count": 9,
   "metadata": {},
   "outputs": [
    {
     "name": "stdout",
     "output_type": "stream",
     "text": [
      "Time for Preprocessing and Featursiation is :: 0.23520755767822266  sec\n",
      "Time for inference is :: 0.07050299644470215  sec\n"
     ]
    },
    {
     "data": {
      "text/plain": [
       "array([ 94.43566745,  94.43566745,  78.29702703, ..., 110.9961236 ,\n",
       "        94.43566745,  94.43566745])"
      ]
     },
     "execution_count": 9,
     "metadata": {},
     "output_type": "execute_result"
    }
   ],
   "source": [
    "final_func_1(X_train)"
   ]
  },
  {
   "cell_type": "markdown",
   "metadata": {},
   "source": [
    "### Function to Calculate R2_score : : final_func_2 (X,  Y)"
   ]
  },
  {
   "cell_type": "code",
   "execution_count": 10,
   "metadata": {},
   "outputs": [],
   "source": [
    "def final_func_2(X, Y):\n",
    "    \n",
    "    \"\"\"\n",
    "    Input :: X (Features), Y (Target Values)\n",
    "    \n",
    "    Output :: R2_score\n",
    "    \n",
    "    \"\"\"\n",
    "    \n",
    "    return r2_score(Y,final_func_1(X))"
   ]
  },
  {
   "cell_type": "code",
   "execution_count": 11,
   "metadata": {},
   "outputs": [
    {
     "name": "stdout",
     "output_type": "stream",
     "text": [
      "Time for Preprocessing and Featursiation is :: 0.18879127502441406  sec\n",
      "Time for inference is :: 0.05010485649108887  sec\n"
     ]
    }
   ],
   "source": [
    "Y_pred = final_func_1(X_train)"
   ]
  },
  {
   "cell_type": "code",
   "execution_count": 12,
   "metadata": {},
   "outputs": [
    {
     "name": "stdout",
     "output_type": "stream",
     "text": [
      "Time for Preprocessing and Featursiation is :: 0.2387678623199463  sec\n",
      "Time for inference is :: 0.04932665824890137  sec\n"
     ]
    }
   ],
   "source": [
    "r2_score_  = final_func_2(X_train, Y_train)"
   ]
  },
  {
   "cell_type": "code",
   "execution_count": 13,
   "metadata": {},
   "outputs": [
    {
     "name": "stdout",
     "output_type": "stream",
     "text": [
      "The r2_score is ::  0.5584789194723387\n"
     ]
    }
   ],
   "source": [
    "print(\"The r2_score is :: \",r2_score_)"
   ]
  },
  {
   "cell_type": "code",
   "execution_count": 14,
   "metadata": {
    "scrolled": true
   },
   "outputs": [
    {
     "name": "stdout",
     "output_type": "stream",
     "text": [
      "Time for Preprocessing and Featursiation is :: 0.2394084930419922  sec\n",
      "Time for inference is :: 0.05136871337890625  sec\n"
     ]
    }
   ],
   "source": [
    "Y_pred_test = final_func_1(test_df.values)"
   ]
  },
  {
   "cell_type": "code",
   "execution_count": 15,
   "metadata": {},
   "outputs": [],
   "source": [
    "y_final = pd.read_csv('sample_submission.csv').drop('y',axis=1)\n",
    "\n",
    "y_final['y'] = Y_pred_test\n",
    "\n",
    "y_final.to_csv('Submission_Final.csv', index= False)"
   ]
  },
  {
   "cell_type": "code",
   "execution_count": 16,
   "metadata": {
    "scrolled": false
   },
   "outputs": [
    {
     "data": {
      "image/png": "[encoded data removed]",
      "text/plain": [
       "<IPython.core.display.Image object>"
      ]
     },
     "execution_count": 16,
     "metadata": {
      "image/png": {
       "height": 1000,
       "width": 1000
      }
     },
     "output_type": "execute_result"
    }
   ],
   "source": [
    "Image(filename = \"img/Final_Submission.png\" ,width = 1000 , height = 1000 )"
   ]
  }
 ],
 "metadata": {
  "kernelspec": {
   "display_name": "Python 3",
   "language": "python",
   "name": "python3"
  },
  "language_info": {
   "codemirror_mode": {
    "name": "ipython",
    "version": 3
   },
   "file_extension": ".py",
   "mimetype": "text/x-python",
   "name": "python",
   "nbconvert_exporter": "python",
   "pygments_lexer": "ipython3",
   "version": "3.7.6"
  }
 },
 "nbformat": 4,
 "nbformat_minor": 4
}
